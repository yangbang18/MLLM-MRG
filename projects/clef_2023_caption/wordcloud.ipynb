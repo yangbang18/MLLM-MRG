{
 "cells": [
  {
   "cell_type": "code",
   "execution_count": null,
   "id": "77c8a5e4",
   "metadata": {},
   "outputs": [],
   "source": [
    "!pip install nltk"
   ]
  },
  {
   "cell_type": "code",
   "execution_count": 6,
   "id": "3c1dff08",
   "metadata": {},
   "outputs": [
    {
     "name": "stdout",
     "output_type": "stream",
     "text": [
      "Looking in indexes: https://mirrors.bfsu.edu.cn/pypi/web/simple\n",
      "Collecting wordcloud\n",
      "  Downloading https://mirrors.bfsu.edu.cn/pypi/web/packages/fe/99/71f20790440d6131a5dcb6068dc93a774e7afd3a8350c4c55ff134f86655/wordcloud-1.9.1.1-cp38-cp38-manylinux_2_17_x86_64.manylinux2014_x86_64.whl (461 kB)\n",
      "\u001b[K     |████████████████████████████████| 461 kB 1.4 MB/s eta 0:00:01\n",
      "\u001b[?25hRequirement already satisfied: numpy>=1.6.1 in /opt/conda/lib/python3.8/site-packages (from wordcloud) (1.21.2)\n",
      "Requirement already satisfied: matplotlib in /opt/conda/lib/python3.8/site-packages (from wordcloud) (3.4.3)\n",
      "Requirement already satisfied: pillow in /opt/conda/lib/python3.8/site-packages (from wordcloud) (9.3.0)\n",
      "Requirement already satisfied: python-dateutil>=2.7 in /opt/conda/lib/python3.8/site-packages (from matplotlib->wordcloud) (2.8.2)\n",
      "Requirement already satisfied: pyparsing>=2.2.1 in /opt/conda/lib/python3.8/site-packages (from matplotlib->wordcloud) (2.4.7)\n",
      "Requirement already satisfied: cycler>=0.10 in /opt/conda/lib/python3.8/site-packages (from matplotlib->wordcloud) (0.10.0)\n",
      "Requirement already satisfied: kiwisolver>=1.0.1 in /opt/conda/lib/python3.8/site-packages (from matplotlib->wordcloud) (1.3.2)\n",
      "Requirement already satisfied: six in /opt/conda/lib/python3.8/site-packages (from cycler>=0.10->matplotlib->wordcloud) (1.16.0)\n",
      "Installing collected packages: wordcloud\n",
      "Successfully installed wordcloud-1.9.1.1\n"
     ]
    }
   ],
   "source": [
    "!pip install wordcloud"
   ]
  },
  {
   "cell_type": "code",
   "execution_count": null,
   "id": "b40b8415",
   "metadata": {},
   "outputs": [],
   "source": [
    "import nltk\n",
    "nltk.download('punkt')"
   ]
  },
  {
   "cell_type": "code",
   "execution_count": 3,
   "id": "5c501361",
   "metadata": {},
   "outputs": [
    {
     "name": "stdout",
     "output_type": "stream",
     "text": [
      "['Today', \"'s\", 'weather', 'is', 'good', ',', 'very', 'windy', 'and', 'sunny', ',', 'we', 'have', 'no', 'classes', 'in', 'the', 'afternoon', ',', 'We', 'have', 'to', 'play', 'basketball', 'tomorrow', '.']\n"
     ]
    }
   ],
   "source": [
    "from nltk.tokenize import word_tokenize\n",
    "\n",
    "input_str = \"Today's weather is good, very windy and sunny, we have no classes in the afternoon,We have to play basketball tomorrow.\"\n",
    "tokens = word_tokenize(input_str)\n",
    "print(tokens)"
   ]
  },
  {
   "cell_type": "code",
   "execution_count": 4,
   "id": "e706e9f0",
   "metadata": {},
   "outputs": [],
   "source": [
    "import json\n",
    "\n",
    "data = json.load(open('../../data/clef_2023_caption/train.json'))\n",
    "captions = [' '.join(word_tokenize(item['caption'])) for item in data]"
   ]
  },
  {
   "cell_type": "code",
   "execution_count": 10,
   "id": "faabe6fd",
   "metadata": {},
   "outputs": [
    {
     "name": "stdout",
     "output_type": "stream",
     "text": [
      "60918\n",
      "24.04850783019797\n"
     ]
    }
   ],
   "source": [
    "print(len(captions))\n",
    "total = 0\n",
    "for caption in captions:\n",
    "    total += len(caption.split(' '))\n",
    "print(total / len(captions))"
   ]
  },
  {
   "cell_type": "code",
   "execution_count": 5,
   "id": "bb08a947",
   "metadata": {},
   "outputs": [
    {
     "data": {
      "text/plain": [
       "'Head CT demonstrating left parotiditis .'"
      ]
     },
     "execution_count": 5,
     "metadata": {},
     "output_type": "execute_result"
    }
   ],
   "source": [
    "captions[0]"
   ]
  },
  {
   "cell_type": "code",
   "execution_count": 9,
   "id": "968eecb1",
   "metadata": {},
   "outputs": [
    {
     "data": {
      "text/plain": [
       "<wordcloud.wordcloud.WordCloud at 0x7fa6d5826af0>"
      ]
     },
     "execution_count": 9,
     "metadata": {},
     "output_type": "execute_result"
    }
   ],
   "source": [
    "import wordcloud\n",
    "wc = wordcloud.WordCloud(width=400, height=300)#, background_color=\"white\")\n",
    "wc.generate(' '.join(captions))\n",
    "wc.to_file(\"train_wordcloud.png\")"
   ]
  },
  {
   "cell_type": "code",
   "execution_count": null,
   "id": "4f1570d0",
   "metadata": {},
   "outputs": [],
   "source": []
  },
  {
   "cell_type": "code",
   "execution_count": 11,
   "id": "cce9ce84",
   "metadata": {},
   "outputs": [],
   "source": [
    "import json\n",
    "\n",
    "data = json.load(open('../../data/clef_2023_caption/val.json'))\n",
    "captions = [' '.join(word_tokenize(item['caption'])) for item in data]"
   ]
  },
  {
   "cell_type": "code",
   "execution_count": 12,
   "id": "dbfc78ee",
   "metadata": {},
   "outputs": [
    {
     "name": "stdout",
     "output_type": "stream",
     "text": [
      "10437\n",
      "26.124173613107214\n"
     ]
    }
   ],
   "source": [
    "print(len(captions))\n",
    "total = 0\n",
    "for caption in captions:\n",
    "    total += len(caption.split(' '))\n",
    "print(total / len(captions))"
   ]
  },
  {
   "cell_type": "code",
   "execution_count": 13,
   "id": "5a6e04d1",
   "metadata": {},
   "outputs": [
    {
     "data": {
      "text/plain": [
       "<wordcloud.wordcloud.WordCloud at 0x7fa6d5826be0>"
      ]
     },
     "execution_count": 13,
     "metadata": {},
     "output_type": "execute_result"
    }
   ],
   "source": [
    "import wordcloud\n",
    "wc = wordcloud.WordCloud(width=400, height=300)#, background_color=\"white\")\n",
    "wc.generate(' '.join(captions))\n",
    "wc.to_file(\"val_wordcloud.png\")"
   ]
  },
  {
   "cell_type": "code",
   "execution_count": null,
   "id": "c5fd051f",
   "metadata": {},
   "outputs": [],
   "source": []
  },
  {
   "cell_type": "code",
   "execution_count": 14,
   "id": "6ddf3295",
   "metadata": {},
   "outputs": [],
   "source": [
    "import json\n",
    "\n",
    "data = json.load(open('./results/PCLmed_val_predictions.json'))\n",
    "captions = [' '.join(word_tokenize(item['caption'])) for item in data]"
   ]
  },
  {
   "cell_type": "code",
   "execution_count": 15,
   "id": "5ecae556",
   "metadata": {},
   "outputs": [
    {
     "name": "stdout",
     "output_type": "stream",
     "text": [
      "10437\n",
      "18.39398294529079\n"
     ]
    }
   ],
   "source": [
    "print(len(captions))\n",
    "total = 0\n",
    "for caption in captions:\n",
    "    total += len(caption.split(' '))\n",
    "print(total / len(captions))"
   ]
  },
  {
   "cell_type": "code",
   "execution_count": 16,
   "id": "f88ee2a4",
   "metadata": {},
   "outputs": [
    {
     "data": {
      "text/plain": [
       "<wordcloud.wordcloud.WordCloud at 0x7fa38787e6d0>"
      ]
     },
     "execution_count": 16,
     "metadata": {},
     "output_type": "execute_result"
    }
   ],
   "source": [
    "import wordcloud\n",
    "wc = wordcloud.WordCloud(width=400, height=300)#, background_color=\"white\")\n",
    "wc.generate(' '.join(captions))\n",
    "wc.to_file(\"pred_wordcloud.png\")"
   ]
  },
  {
   "cell_type": "code",
   "execution_count": null,
   "id": "da15770c",
   "metadata": {},
   "outputs": [],
   "source": []
  }
 ],
 "metadata": {
  "kernelspec": {
   "display_name": "Python 3 (ipykernel)",
   "language": "python",
   "name": "python3"
  },
  "language_info": {
   "codemirror_mode": {
    "name": "ipython",
    "version": 3
   },
   "file_extension": ".py",
   "mimetype": "text/x-python",
   "name": "python",
   "nbconvert_exporter": "python",
   "pygments_lexer": "ipython3",
   "version": "3.8.8"
  }
 },
 "nbformat": 4,
 "nbformat_minor": 5
}
